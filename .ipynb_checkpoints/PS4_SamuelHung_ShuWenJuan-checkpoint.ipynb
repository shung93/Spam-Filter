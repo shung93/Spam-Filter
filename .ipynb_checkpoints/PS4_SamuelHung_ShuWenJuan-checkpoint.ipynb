{
 "cells": [
  {
   "cell_type": "markdown",
   "metadata": {},
   "source": [
    "# Problem Set 4 - Naive Bayes and Spam Filtering\n",
    "### Project Group 2\n",
    "Authors: Samuel Hung, Shu Wen Juan (Jane)"
   ]
  },
  {
   "cell_type": "code",
   "execution_count": null,
   "metadata": {},
   "outputs": [],
   "source": [
    "import numpy as np\n",
    "import pandas as pd \n",
    "import re\n",
    "import time\n",
    "import matplotlib.pyplot as plt\n",
    "import seaborn as sns\n",
    "\n",
    "from collections import Counter\n",
    "\n",
    "from nltk import word_tokenize, sent_tokenize\n",
    "from nltk.corpus import stopwords\n",
    "from nltk.stem import LancasterStemmer, WordNetLemmatizer\n",
    "\n",
    "from sklearn.model_selection import train_test_split\n",
    "from sklearn.feature_extraction.text import CountVectorizer, TfidfTransformer, TfidfVectorizer\n",
    "from sklearn import neighbors\n",
    "from sklearn.model_selection import KFold\n",
    "from sklearn.neighbors import KNeighborsClassifier\n",
    "from sklearn import metrics\n",
    "from sklearn.naive_bayes import MultinomialNB, GaussianNB\n",
    "\n",
    "\n",
    "stop = stopwords.words('english')"
   ]
  },
  {
   "cell_type": "code",
   "execution_count": null,
   "metadata": {},
   "outputs": [],
   "source": [
    "# functions for manipulating text data \n",
    "def to_lowercase(words):\n",
    "    \"\"\"Convert all characters to lowercase from list of tokenized words\"\"\"\n",
    "    new_words = []\n",
    "    for word in words:\n",
    "        new_word = word.lower()\n",
    "        new_words.append(new_word)\n",
    "    return new_words\n",
    "\n",
    "def lemmatize_verbs(words):\n",
    "    \"\"\"Lemmatize verbs in list of tokenized words\"\"\"\n",
    "    lemmatizer = WordNetLemmatizer()\n",
    "    lemmas = []\n",
    "    for word in words:\n",
    "        lemma = lemmatizer.lemmatize(word, pos='v')\n",
    "        lemmas.append(lemma)\n",
    "    return lemmas\n",
    "\n",
    "def lst_of_text(data): # Transfrom emails into a list with strings\n",
    "    email_text_lst = [i for i in data]\n",
    "    return email_text_lst\n",
    "\n",
    "def lemmatize_emails_lst(email_text_lst): # Lemmiatize emails into a list with strings\n",
    "    lemmatized_email_text_lst = []\n",
    "    for email in email_text_lst:\n",
    "        # Init the Wordnet Lemmatizer\n",
    "        lemmatizer = WordNetLemmatizer()\n",
    "        word_list = nltk.word_tokenize(email.lower())# Tokenize: Split the sentence into words\n",
    "        lemmatized_output = ' '.join([lemmatizer.lemmatize(w) for w in word_list]) #Lemmatize list of words and join\n",
    "        lemmatized_email_text_lst.append(lemmatized_output)\n",
    "    return lemmatized_email_text_lst"
   ]
  },
  {
   "cell_type": "code",
   "execution_count": null,
   "metadata": {},
   "outputs": [],
   "source": [
    "# email_df = pd.read_csv('emails.csv')\n",
    "email_df = pd.read_csv('personal_emails.csv')"
   ]
  },
  {
   "cell_type": "markdown",
   "metadata": {},
   "source": [
    "### Initial EDA"
   ]
  },
  {
   "cell_type": "code",
   "execution_count": null,
   "metadata": {},
   "outputs": [],
   "source": [
    "#spam_ham_counts"
   ]
  },
  {
   "cell_type": "code",
   "execution_count": null,
   "metadata": {},
   "outputs": [],
   "source": [
    "spam_ham_counts = pd.value_counts(email_df['spam_ham'])\n",
    "spam_ham_counts.plot(kind='bar',color=['#E74C3C','#2ECC71'])\n",
    "plt.xticks(np.arange(2), ['Ham', 'Spam'])\n",
    "plt.ylabel('Count of Emails')\n",
    "plt.title('Number of Ham vs Spam Emails')\n",
    "plt.show()"
   ]
  },
  {
   "cell_type": "markdown",
   "metadata": {},
   "source": [
    "## Cleaning Text"
   ]
  },
  {
   "cell_type": "code",
   "execution_count": null,
   "metadata": {},
   "outputs": [],
   "source": [
    "email_df1 = email_df.copy() # process text data without stemming words"
   ]
  },
  {
   "cell_type": "code",
   "execution_count": null,
   "metadata": {},
   "outputs": [],
   "source": [
    "# converting text to lowercase\n",
    "# processed text will be as 'tokens'\n",
    "email_df1['processed_text'] = to_lowercase(email_df1['text'])\n",
    "\n",
    "# removing special characters\n",
    "email_df1['processed_text'] = email_df1['processed_text'].map(lambda text: re.sub('[-\\'_~/\\\\+`@#%^&*(),.?\":{}|<>!$]', ' ', text))"
   ]
  },
  {
   "cell_type": "code",
   "execution_count": null,
   "metadata": {},
   "outputs": [],
   "source": [
    "# tokenize words \n",
    "email_df1['processed_text'] = email_df1['processed_text'].map(lambda text:  word_tokenize(text)) \n",
    "\n",
    "# lemmatize verbs\n",
    "email_df1['processed_text'] = email_df1.iloc[:,2].apply(lemmatize_verbs)"
   ]
  },
  {
   "cell_type": "code",
   "execution_count": null,
   "metadata": {},
   "outputs": [],
   "source": [
    "# removing stop words from text\n",
    "# stop words are common words that don't provide much information regarding the context \n",
    "# (i.e., a, the, and, etc.)\n",
    "email_df1['processed_text'] = email_df1['processed_text'].map(lambda tokens: [word for word in tokens if not word in stop]) "
   ]
  },
  {
   "cell_type": "code",
   "execution_count": null,
   "metadata": {},
   "outputs": [],
   "source": [
    "# joining tokenized text \n",
    "email_df1['processed_text'] = email_df1['processed_text'].map(lambda text: ' '.join(text))"
   ]
  },
  {
   "cell_type": "markdown",
   "metadata": {},
   "source": [
    "### EDA After Processing Text"
   ]
  },
  {
   "cell_type": "code",
   "execution_count": 11,
   "metadata": {},
   "outputs": [],
   "source": [
    "ham_count = Counter(\" \".join(email_df1[email_df1['spam_ham']==0]['processed_text']).split()).most_common(20)\n",
    "ham_word_df = pd.DataFrame.from_dict(ham_count)\n",
    "ham_word_df = ham_word_df.rename(columns={0:'Word', 1:'Count'})"
   ]
  },
  {
   "cell_type": "code",
   "execution_count": 12,
   "metadata": {},
   "outputs": [
    {
     "data": {
      "image/png": "[encoded data removed]",
      "text/plain": [
       "<Figure size 432x288 with 1 Axes>"
      ]
     },
     "metadata": {
      "needs_background": "light"
     },
     "output_type": "display_data"
    }
   ],
   "source": [
    "ham_word_df.plot.bar(legend=False, color=['#E74C3C'])\n",
    "ham_word_len = np.arange(len(ham_word_df['Word']))\n",
    "plt.xticks(ham_word_len, ham_word_df['Word'])\n",
    "plt.xlabel('Words')\n",
    "plt.ylabel('Count')\n",
    "plt.title('Top 20 Words in Ham Messages')\n",
    "plt.show()"
   ]
  },
  {
   "cell_type": "code",
   "execution_count": 13,
   "metadata": {},
   "outputs": [],
   "source": [
    "spam_count = Counter(\" \".join(email_df1[email_df1['spam_ham']==1]['processed_text']).split()).most_common(20)\n",
    "spam_word_df = pd.DataFrame.from_dict(spam_count)\n",
    "spam_word_df = spam_word_df.rename(columns={0:'Word', 1:'Count'})"
   ]
  },
  {
   "cell_type": "code",
   "execution_count": 14,
   "metadata": {},
   "outputs": [
    {
     "data": {
      "image/png": "[encoded data removed]",
      "text/plain": [
       "<Figure size 432x288 with 1 Axes>"
      ]
     },
     "metadata": {
      "needs_background": "light"
     },
     "output_type": "display_data"
    }
   ],
   "source": [
    "spam_word_df.plot.bar(legend=False, color='#2ECC71')\n",
    "spam_word_len = np.arange(len(spam_word_df['Word']))\n",
    "plt.xticks(spam_word_len, spam_word_df['Word'])\n",
    "plt.xlabel('Words')\n",
    "plt.ylabel('Count')\n",
    "plt.title('Top 20 Words in Spam Messages')\n",
    "plt.show()"
   ]
  },
  {
   "cell_type": "markdown",
   "metadata": {},
   "source": [
    "## Calculating TF-IDF\n",
    "\n",
    "We have chosen to tokenize every sequence of n terms (these are called n-grams). This helps to preserve word order. Additionally, we have chosen to use both unigrams and bigrams. Bigrams are where two words that are next each are used and considered as a 'feature.' \n",
    "\n",
    "TF stands for Term Frequency, which tallies the occurrence of each n-gram for the data. As some words may occur more frequently in emails (i.e., 'subject'), the inverse document frequency (IDF) is used to downweight term frequencies. The IDF is calculated by logarithmically scaling the inverse of the fraction of training examples that contains the given word or term. \n",
    "\n",
    "We used the sklearn TfidfVectorizer function that performs n-gram tokenization and computes the TF-IDF statistic on the terms. This statistic is calculated to avoid division by zero and will normalize values in the data (see: https://scikit-learn.org/stable/modules/feature_extraction.html#tfidf-term-weighting). "
   ]
  },
  {
   "cell_type": "code",
   "execution_count": 15,
   "metadata": {},
   "outputs": [],
   "source": [
    "# Function for calculating TF-IDF and term frequencies \n",
    "# max_df and min_df indicate the maximum and minimum threshold of words to ignore (i.e., ignore words that occur over 95% and occur less than .9% in the data)\n",
    "def cal_tf_idf(corpus, max_features=10000,max_df=0.95,min_df=0.009):\n",
    "    vectorizer = TfidfVectorizer(max_features=max_features,max_df=max_df ,min_df=min_df, ngram_range=(1,2)) # uses sklearn's TfidfVectorizer as the vectorizer; includes unigrams and bigrams\n",
    "    X = vectorizer.fit_transform(corpus) # transforms the text data into a matrix of numbers; 1 row per training example and 1 column per word \n",
    "    feature_names = vectorizer.get_feature_names() # returns the feature names\n",
    "    return X, feature_names, vectorizer"
   ]
  },
  {
   "cell_type": "code",
   "execution_count": null,
   "metadata": {},
   "outputs": [],
   "source": [
    "email_df1.head()"
   ]
  },
  {
   "cell_type": "code",
   "execution_count": 16,
   "metadata": {},
   "outputs": [],
   "source": [
    "# create a copy that will be testing models on\n",
    "email_df1_processed = email_df1.copy()\n",
    "email_df1_processed = email_df1_processed.drop(['text'], axis=1) # remove the original text column "
   ]
  },
  {
   "cell_type": "code",
   "execution_count": 17,
   "metadata": {},
   "outputs": [],
   "source": [
    "# email_df1_processed.head() # EDA to make sure data has been properly manipulated"
   ]
  },
  {
   "cell_type": "code",
   "execution_count": 18,
   "metadata": {},
   "outputs": [],
   "source": [
    "# Calculate the word frequency, the feature list (words being used), and the vectorizer\n",
    "word_freq, feature_list, vctrzer = cal_tf_idf(email_df1_processed['processed_text'].values)"
   ]
  },
  {
   "cell_type": "code",
   "execution_count": 19,
   "metadata": {},
   "outputs": [],
   "source": [
    "#len(feature_list)"
   ]
  },
  {
   "cell_type": "code",
   "execution_count": 20,
   "metadata": {},
   "outputs": [],
   "source": [
    "word_freq_df = pd.DataFrame(word_freq.todense(), columns=feature_list) # convert the TF-IDF matrix to a dataframe"
   ]
  },
  {
   "cell_type": "code",
   "execution_count": 21,
   "metadata": {},
   "outputs": [],
   "source": [
    "# concatenate the original dataframe (with processed text data) with the TF-IDF matrix dataframe\n",
    "model_df = pd.concat([email_df1_processed, word_freq_df], axis=1)\n",
    "\n",
    "# drop the 'processed-text' column to only use the n-grams as the features \n",
    "model_df = model_df.drop(['processed_text'], axis=1)"
   ]
  },
  {
   "cell_type": "code",
   "execution_count": 22,
   "metadata": {},
   "outputs": [],
   "source": [
    "#model_df.head()"
   ]
  },
  {
   "cell_type": "markdown",
   "metadata": {},
   "source": [
    "## Splitting Data"
   ]
  },
  {
   "cell_type": "code",
   "execution_count": 23,
   "metadata": {},
   "outputs": [],
   "source": [
    "# split data; random state of 42\n",
    "X_train, X_test, y_train, y_test = train_test_split(model_df.iloc[:,1:], model_df['spam_ham'], test_size=0.3, random_state=42, stratify=model_df['spam_ham'])"
   ]
  },
  {
   "cell_type": "code",
   "execution_count": 24,
   "metadata": {},
   "outputs": [],
   "source": [
    "#word_freq.toarray()"
   ]
  },
  {
   "cell_type": "markdown",
   "metadata": {},
   "source": [
    "## Naive Bayes\n",
    "\n",
    "We compare using the Gaussian versus the Multinomial Naive Bayes. Multinomial Naive Bayes is typically used for discrete data, such as specific levels of data, etc. Gaussian on the other hand assumes the normal distribution and is used where the features are continuous. Features can have different values in the data set. \n",
    "\n",
    "In our testing, we found that the Multinomial Naive Bayes produced slightly lower training accuracy and precision. However, there were far less false positives when using the Multinomial Naive Bayes. The higher false positives is unfavorable as users typically don't want their 'good' (or 'ham') emails to be labeled as spam, resulting in them never actually seeing the email. "
   ]
  },
  {
   "cell_type": "markdown",
   "metadata": {},
   "source": [
    "#### Gaussian Naive Bayes"
   ]
  },
  {
   "cell_type": "code",
   "execution_count": 25,
   "metadata": {},
   "outputs": [
    {
     "name": "stdout",
     "output_type": "stream",
     "text": [
      "Training accuracy score: 0.9670050761421319\n",
      "Training precision: 0.9485981308411215\n",
      "\n",
      "Test accuracy score: 0.9\n",
      "Test precision: 0.927710843373494\n",
      "\n",
      "Training time taken: 0.23 seconds\n"
     ]
    }
   ],
   "source": [
    "start_time = time.time()\n",
    "gnb = GaussianNB() \n",
    "gnb.fit(X_train, y_train) # fit the Gaussian NB model to the training dataset\n",
    "\n",
    "gnb_score_train = gnb.score(X_train, y_train) # score the model on the training\n",
    "gnb_score_test = gnb.score(X_test, y_test) # score the model on the test \n",
    "\n",
    "gnb_precision_train = metrics.precision_score(y_train, gnb.predict(X_train)) # get the precision for training\n",
    "gnb_precision_test = metrics.precision_score(y_test, gnb.predict(X_test)) # get the precision for the test\n",
    "\n",
    "print(\"Training accuracy score:\", gnb_score_train)\n",
    "print(\"Training precision:\", gnb_precision_train)\n",
    "print()\n",
    "print(\"Test accuracy score:\", gnb_score_test)\n",
    "print(\"Test precision:\", gnb_precision_test)\n",
    "print()\n",
    "print(\"Training time taken: \" + str(round(time.time() - start_time,2)) + \" seconds\")"
   ]
  },
  {
   "cell_type": "markdown",
   "metadata": {},
   "source": [
    "#### Confusion Matrix for Gaussian Naive Bayes on the Test Dataset"
   ]
  },
  {
   "cell_type": "code",
   "execution_count": 26,
   "metadata": {},
   "outputs": [
    {
     "data": {
      "text/html": [
       "<div>\n",
       "<style scoped>\n",
       "    .dataframe tbody tr th:only-of-type {\n",
       "        vertical-align: middle;\n",
       "    }\n",
       "\n",
       "    .dataframe tbody tr th {\n",
       "        vertical-align: top;\n",
       "    }\n",
       "\n",
       "    .dataframe thead tr th {\n",
       "        text-align: left;\n",
       "    }\n",
       "</style>\n",
       "<table border=\"1\" class=\"dataframe\">\n",
       "  <thead>\n",
       "    <tr>\n",
       "      <th></th>\n",
       "      <th></th>\n",
       "      <th colspan=\"2\" halign=\"left\">Predicted</th>\n",
       "    </tr>\n",
       "    <tr>\n",
       "      <th></th>\n",
       "      <th></th>\n",
       "      <th>Spam</th>\n",
       "      <th>Ham</th>\n",
       "    </tr>\n",
       "  </thead>\n",
       "  <tbody>\n",
       "    <tr>\n",
       "      <th rowspan=\"2\" valign=\"top\">Actual</th>\n",
       "      <th>Spam</th>\n",
       "      <td>76</td>\n",
       "      <td>6</td>\n",
       "    </tr>\n",
       "    <tr>\n",
       "      <th>Ham</th>\n",
       "      <td>11</td>\n",
       "      <td>77</td>\n",
       "    </tr>\n",
       "  </tbody>\n",
       "</table>\n",
       "</div>"
      ],
      "text/plain": [
       "            Predicted    \n",
       "                 Spam Ham\n",
       "Actual Spam        76   6\n",
       "       Ham         11  77"
      ]
     },
     "execution_count": 26,
     "metadata": {},
     "output_type": "execute_result"
    }
   ],
   "source": [
    "pd.DataFrame(metrics.confusion_matrix(y_test, gnb.predict(X_test)), \n",
    "             index=[['Actual', 'Actual'], ['Spam', 'Ham']], \n",
    "             columns=[['Predicted','Predicted'],['Spam','Ham']])"
   ]
  },
  {
   "cell_type": "markdown",
   "metadata": {},
   "source": [
    "#### Multinomial Naive Bayes"
   ]
  },
  {
   "cell_type": "code",
   "execution_count": 27,
   "metadata": {},
   "outputs": [
    {
     "name": "stdout",
     "output_type": "stream",
     "text": [
      "Training score: 0.9695431472081218\n",
      "Train Precision: 0.9617224880382775\n",
      "\n",
      "Testing score: 0.9294117647058824\n",
      "Test Precision: 0.9222222222222223\n",
      "\n",
      "Training time taken: 0.07 seconds\n"
     ]
    }
   ],
   "source": [
    "start_time = time.time()\n",
    "mnb = MultinomialNB() \n",
    "mnb.fit(X_train, y_train)\n",
    "\n",
    "mnb_score_train = mnb.score(X_train, y_train)\n",
    "mnb_score_test = mnb.score(X_test, y_test)\n",
    "\n",
    "mnb_precision_train = metrics.precision_score(y_train, mnb.predict(X_train))\n",
    "mnb_precision_test = metrics.precision_score(y_test, mnb.predict(X_test))\n",
    "\n",
    "mnb_predicted_train = mnb.predict(X_train)\n",
    "\n",
    "print(\"Training score:\", mnb_score_train)\n",
    "print(\"Train Precision:\", mnb_precision_train)\n",
    "print()\n",
    "print(\"Testing score:\", mnb_score_test)\n",
    "print(\"Test Precision:\", mnb_precision_test)\n",
    "print()\n",
    "print(\"Training time taken: \" + str(round(time.time() - start_time,2)) + \" seconds\")"
   ]
  },
  {
   "cell_type": "code",
   "execution_count": 28,
   "metadata": {},
   "outputs": [],
   "source": [
    "# Finding the best alpha for additive smoothing \n",
    "alpha_lst = np.arange(1/10000, 1, 0.1)\n",
    "train_score_lst = []\n",
    "test_score_lst = []\n",
    "test_precision_lst = []\n",
    "count=0\n",
    "\n",
    "for alpha in alpha_lst:\n",
    "    mnb = MultinomialNB(alpha=alpha)\n",
    "    mnb.fit(X_train, y_train)\n",
    "    train_score_lst.append(mnb.score(X_train, y_train))\n",
    "    test_score_lst.append(mnb.score(X_test, y_test))\n",
    "    test_precision_lst.append(metrics.precision_score(y_test, mnb.predict(X_test)))\n",
    "    count+=1\n",
    "    \n",
    "alpha_df = pd.DataFrame({'Alpha':alpha_lst, 'Training Score':train_score_lst, 'Test Score':test_score_lst, 'Test Precision Score':test_precision_lst})"
   ]
  },
  {
   "cell_type": "code",
   "execution_count": 29,
   "metadata": {},
   "outputs": [
    {
     "data": {
      "text/html": [
       "<div>\n",
       "<style scoped>\n",
       "    .dataframe tbody tr th:only-of-type {\n",
       "        vertical-align: middle;\n",
       "    }\n",
       "\n",
       "    .dataframe tbody tr th {\n",
       "        vertical-align: top;\n",
       "    }\n",
       "\n",
       "    .dataframe thead th {\n",
       "        text-align: right;\n",
       "    }\n",
       "</style>\n",
       "<table border=\"1\" class=\"dataframe\">\n",
       "  <thead>\n",
       "    <tr style=\"text-align: right;\">\n",
       "      <th></th>\n",
       "      <th>Alpha</th>\n",
       "      <th>Training Score</th>\n",
       "      <th>Test Score</th>\n",
       "      <th>Test Precision Score</th>\n",
       "    </tr>\n",
       "  </thead>\n",
       "  <tbody>\n",
       "    <tr>\n",
       "      <th>6</th>\n",
       "      <td>0.6001</td>\n",
       "      <td>0.972081</td>\n",
       "      <td>0.929412</td>\n",
       "      <td>0.931818</td>\n",
       "    </tr>\n",
       "    <tr>\n",
       "      <th>7</th>\n",
       "      <td>0.7001</td>\n",
       "      <td>0.969543</td>\n",
       "      <td>0.929412</td>\n",
       "      <td>0.931818</td>\n",
       "    </tr>\n",
       "    <tr>\n",
       "      <th>8</th>\n",
       "      <td>0.8001</td>\n",
       "      <td>0.969543</td>\n",
       "      <td>0.929412</td>\n",
       "      <td>0.931818</td>\n",
       "    </tr>\n",
       "    <tr>\n",
       "      <th>5</th>\n",
       "      <td>0.5001</td>\n",
       "      <td>0.972081</td>\n",
       "      <td>0.935294</td>\n",
       "      <td>0.932584</td>\n",
       "    </tr>\n",
       "    <tr>\n",
       "      <th>9</th>\n",
       "      <td>0.9001</td>\n",
       "      <td>0.969543</td>\n",
       "      <td>0.935294</td>\n",
       "      <td>0.932584</td>\n",
       "    </tr>\n",
       "    <tr>\n",
       "      <th>4</th>\n",
       "      <td>0.4001</td>\n",
       "      <td>0.974619</td>\n",
       "      <td>0.941176</td>\n",
       "      <td>0.943182</td>\n",
       "    </tr>\n",
       "    <tr>\n",
       "      <th>3</th>\n",
       "      <td>0.3001</td>\n",
       "      <td>0.977157</td>\n",
       "      <td>0.947059</td>\n",
       "      <td>0.954023</td>\n",
       "    </tr>\n",
       "    <tr>\n",
       "      <th>0</th>\n",
       "      <td>0.0001</td>\n",
       "      <td>0.984772</td>\n",
       "      <td>0.935294</td>\n",
       "      <td>0.963855</td>\n",
       "    </tr>\n",
       "    <tr>\n",
       "      <th>1</th>\n",
       "      <td>0.1001</td>\n",
       "      <td>0.982234</td>\n",
       "      <td>0.952941</td>\n",
       "      <td>0.965116</td>\n",
       "    </tr>\n",
       "    <tr>\n",
       "      <th>2</th>\n",
       "      <td>0.2001</td>\n",
       "      <td>0.979695</td>\n",
       "      <td>0.952941</td>\n",
       "      <td>0.965116</td>\n",
       "    </tr>\n",
       "  </tbody>\n",
       "</table>\n",
       "</div>"
      ],
      "text/plain": [
       "    Alpha  Training Score  Test Score  Test Precision Score\n",
       "6  0.6001        0.972081    0.929412              0.931818\n",
       "7  0.7001        0.969543    0.929412              0.931818\n",
       "8  0.8001        0.969543    0.929412              0.931818\n",
       "5  0.5001        0.972081    0.935294              0.932584\n",
       "9  0.9001        0.969543    0.935294              0.932584\n",
       "4  0.4001        0.974619    0.941176              0.943182\n",
       "3  0.3001        0.977157    0.947059              0.954023\n",
       "0  0.0001        0.984772    0.935294              0.963855\n",
       "1  0.1001        0.982234    0.952941              0.965116\n",
       "2  0.2001        0.979695    0.952941              0.965116"
      ]
     },
     "execution_count": 29,
     "metadata": {},
     "output_type": "execute_result"
    }
   ],
   "source": [
    "# precision is the proportion of identification that were correct\n",
    "# Precision = TP/TP+FP\n",
    "# sort by precision to determine best performing alpha \n",
    "alpha_df.sort_values(by=['Test Precision Score'])"
   ]
  },
  {
   "cell_type": "markdown",
   "metadata": {},
   "source": [
    "#### Confusion Matrix for Multinomial Naive Bayes on the Test Dataset"
   ]
  },
  {
   "cell_type": "code",
   "execution_count": 30,
   "metadata": {},
   "outputs": [
    {
     "data": {
      "text/html": [
       "<div>\n",
       "<style scoped>\n",
       "    .dataframe tbody tr th:only-of-type {\n",
       "        vertical-align: middle;\n",
       "    }\n",
       "\n",
       "    .dataframe tbody tr th {\n",
       "        vertical-align: top;\n",
       "    }\n",
       "\n",
       "    .dataframe thead tr th {\n",
       "        text-align: left;\n",
       "    }\n",
       "</style>\n",
       "<table border=\"1\" class=\"dataframe\">\n",
       "  <thead>\n",
       "    <tr>\n",
       "      <th></th>\n",
       "      <th></th>\n",
       "      <th colspan=\"2\" halign=\"left\">Predicted</th>\n",
       "    </tr>\n",
       "    <tr>\n",
       "      <th></th>\n",
       "      <th></th>\n",
       "      <th>Spam</th>\n",
       "      <th>Ham</th>\n",
       "    </tr>\n",
       "  </thead>\n",
       "  <tbody>\n",
       "    <tr>\n",
       "      <th rowspan=\"2\" valign=\"top\">Actual</th>\n",
       "      <th>Spam</th>\n",
       "      <td>76</td>\n",
       "      <td>6</td>\n",
       "    </tr>\n",
       "    <tr>\n",
       "      <th>Ham</th>\n",
       "      <td>5</td>\n",
       "      <td>83</td>\n",
       "    </tr>\n",
       "  </tbody>\n",
       "</table>\n",
       "</div>"
      ],
      "text/plain": [
       "            Predicted    \n",
       "                 Spam Ham\n",
       "Actual Spam        76   6\n",
       "       Ham          5  83"
      ]
     },
     "execution_count": 30,
     "metadata": {},
     "output_type": "execute_result"
    }
   ],
   "source": [
    "# Confusion Matrix\n",
    "pd.DataFrame(metrics.confusion_matrix(y_test, mnb.predict(X_test)), \n",
    "             index=[['Actual', 'Actual'], ['Spam', 'Ham']], \n",
    "             columns=[['Predicted','Predicted'],['Spam','Ham']])"
   ]
  },
  {
   "cell_type": "markdown",
   "metadata": {},
   "source": [
    "### Cross Validation for Naive Bayes"
   ]
  },
  {
   "cell_type": "code",
   "execution_count": 31,
   "metadata": {},
   "outputs": [
    {
     "data": {
      "text/plain": [
       "MultinomialNB(alpha=0.9001, class_prior=None, fit_prior=True)"
      ]
     },
     "execution_count": 31,
     "metadata": {},
     "output_type": "execute_result"
    }
   ],
   "source": [
    "# Cross validation with 10 folds \n",
    "folds = KFold(n_splits=10, shuffle=True, random_state=42)\n",
    "folds.get_n_splits(X_train) \n",
    "mnb.fit(X_train, y_train)\n",
    "#print cross_val_score(clf, X, y, cv=k_fold, n_jobs=1)"
   ]
  },
  {
   "cell_type": "code",
   "execution_count": 32,
   "metadata": {},
   "outputs": [],
   "source": [
    "mnb_cross_val_scores = [] # store the cross_validation scores \n",
    "for train_index, val_index in folds.split(X_train):\n",
    "    # 'folding' the dataset\n",
    "    current_train_X, current_val_X = X_train.iloc[train_index], X_train.iloc[val_index] \n",
    "    current_train_y, current_val_y = y_train.iloc[train_index], y_train.iloc[val_index]\n",
    "    mnb = MultinomialNB(alpha = .6001) # using Multinomial Naive Bayes as the model\n",
    "    mnb.fit(current_train_X, current_train_y) # fitting the model\n",
    "    scores = mnb.score(current_val_X, current_val_y) # scoring the model against the validation portion of the data\n",
    "    mnb_cross_val_scores.append(scores)"
   ]
  },
  {
   "cell_type": "code",
   "execution_count": 33,
   "metadata": {},
   "outputs": [
    {
     "name": "stdout",
     "output_type": "stream",
     "text": [
      "Accuracy score for fold #1: 0.925\n",
      "Accuracy score for fold #2: 1.0\n",
      "Accuracy score for fold #3: 0.9\n",
      "Accuracy score for fold #4: 1.0\n",
      "Accuracy score for fold #5: 0.9230769230769231\n",
      "Accuracy score for fold #6: 0.9230769230769231\n",
      "Accuracy score for fold #7: 0.9487179487179487\n",
      "Accuracy score for fold #8: 0.8974358974358975\n",
      "Accuracy score for fold #9: 0.8717948717948718\n",
      "Accuracy score for fold #10: 0.9743589743589743\n"
     ]
    }
   ],
   "source": [
    "# Show accuracy of the Multinomial Naive Bayes model through K-fold cross validation\n",
    "for i, val in enumerate(mnb_cross_val_scores):\n",
    "    print(\"Accuracy score for fold #{}: {}\".format(i+1, val))"
   ]
  },
  {
   "cell_type": "code",
   "execution_count": 34,
   "metadata": {},
   "outputs": [
    {
     "name": "stdout",
     "output_type": "stream",
     "text": [
      "Mean of accuracy scores from cross validation: 0.9363461538461539\n"
     ]
    }
   ],
   "source": [
    "print(\"Mean of accuracy scores from cross validation:\",np.mean(mnb_cross_val_scores))"
   ]
  },
  {
   "cell_type": "markdown",
   "metadata": {},
   "source": [
    "## ROC Curves for Naive Bayes"
   ]
  },
  {
   "cell_type": "markdown",
   "metadata": {},
   "source": [
    "#### Gaussian "
   ]
  },
  {
   "cell_type": "code",
   "execution_count": 35,
   "metadata": {},
   "outputs": [
    {
     "data": {
      "image/png": "[encoded data removed]",
      "text/plain": [
       "<Figure size 432x288 with 1 Axes>"
      ]
     },
     "metadata": {
      "needs_background": "light"
     },
     "output_type": "display_data"
    }
   ],
   "source": [
    "fpr, tpr, thresholds = metrics.roc_curve(y_test,gnb.predict_proba(X_test)[:,1]) # get the FPR, TPR and corresponding thresholds for ROC curve\n",
    "roc_df = pd.DataFrame({'fpr': fpr, 'tpr': tpr}, columns=['fpr', 'tpr']) # convert to dataframe for plotting\n",
    "roc_auc = metrics.auc(fpr, tpr) # get the AUC measurement\n",
    "plt.title('Gaussian Receiver Operating Characteristic')\n",
    "plt.plot(fpr,tpr, label = 'AUC = %0.2f' % roc_auc)\n",
    "plt.legend(loc = 'lower right')\n",
    "plt.plot([0, 1], [0, 1],'r--')\n",
    "plt.ylabel('True Positive Rate')\n",
    "plt.xlabel('False Positive Rate')\n",
    "plt.show()"
   ]
  },
  {
   "cell_type": "markdown",
   "metadata": {},
   "source": [
    "#### Multinomial"
   ]
  },
  {
   "cell_type": "code",
   "execution_count": 36,
   "metadata": {},
   "outputs": [
    {
     "data": {
      "image/png": "[encoded data removed]",
      "text/plain": [
       "<Figure size 432x288 with 1 Axes>"
      ]
     },
     "metadata": {
      "needs_background": "light"
     },
     "output_type": "display_data"
    }
   ],
   "source": [
    "fpr, tpr, thresholds = metrics.roc_curve(y_test,mnb.predict_proba(X_test)[:,1])\n",
    "roc_df = pd.DataFrame({'fpr': fpr, 'tpr': tpr}, columns=['fpr', 'tpr'])\n",
    "roc_auc = metrics.auc(fpr, tpr)\n",
    "plt.title('Multinomial Receiver Operating Characteristic')\n",
    "plt.plot(fpr,tpr, label = 'AUC = %0.2f' % roc_auc)\n",
    "plt.legend(loc = 'lower right')\n",
    "plt.plot([0, 1], [0, 1],'r--')\n",
    "plt.ylabel('True Positive Rate')\n",
    "plt.xlabel('False Positive Rate')\n",
    "plt.show()"
   ]
  },
  {
   "cell_type": "markdown",
   "metadata": {},
   "source": [
    "## K Nearest Neighbors"
   ]
  },
  {
   "cell_type": "code",
   "execution_count": 37,
   "metadata": {},
   "outputs": [
    {
     "data": {
      "text/plain": [
       "10"
      ]
     },
     "execution_count": 37,
     "metadata": {},
     "output_type": "execute_result"
    }
   ],
   "source": [
    "folds = KFold(n_splits=10)\n",
    "folds.get_n_splits(X_train)"
   ]
  },
  {
   "cell_type": "code",
   "execution_count": 38,
   "metadata": {},
   "outputs": [
    {
     "name": "stdout",
     "output_type": "stream",
     "text": [
      "Training time taken: 18.09 seconds\n"
     ]
    }
   ],
   "source": [
    "start_time = time.time()\n",
    "\n",
    "kValues = [1, 2, 3, 4, 5, 10, 20, 40, 80] # list of K neighbors to test \n",
    "cv_scores = {}\n",
    "for k in kValues: # for each number of k neighbors\n",
    "    currentScores = []\n",
    "    for train_index, val_index in folds.split(X_train): # splitting the data (k folds)\n",
    "        current_train_X, current_val_X = X_train.iloc[train_index], X_train.iloc[val_index]\n",
    "        current_train_y, current_val_y = y_train.iloc[train_index], y_train.iloc[val_index]\n",
    "        knn = neighbors.KNeighborsClassifier(n_neighbors = k,weights='uniform', p=2) # choosing KNN as the model\n",
    "        knn.fit(current_train_X, current_train_y) # fitting the model \n",
    "        scores = knn.score(current_val_X, current_val_y)\n",
    "        currentScores.append(scores)\n",
    "    cv_scores[k] = currentScores\n",
    "    \n",
    "print(\"Training time taken: \" + str(round(time.time() - start_time,2)) + \" seconds\")"
   ]
  },
  {
   "cell_type": "code",
   "execution_count": 39,
   "metadata": {},
   "outputs": [],
   "source": [
    "keys = sorted(cv_scores.keys()) # sorting the cross validation scores\n",
    "means = [] \n",
    "\n",
    "for each in keys:\n",
    "    current = cv_scores[each]\n",
    "    means.append(np.mean(current)) # get the mean of the CV scores\n",
    "    "
   ]
  },
  {
   "cell_type": "code",
   "execution_count": 40,
   "metadata": {},
   "outputs": [
    {
     "data": {
      "text/plain": [
       "Text(0.5, 1.0, 'Accuracy Score for each K Neighbors')"
      ]
     },
     "execution_count": 40,
     "metadata": {},
     "output_type": "execute_result"
    },
    {
     "data": {
      "image/png": "[encoded data removed]",
      "text/plain": [
       "<Figure size 432x288 with 1 Axes>"
      ]
     },
     "metadata": {
      "needs_background": "light"
     },
     "output_type": "display_data"
    }
   ],
   "source": [
    "# Plotting for performance \n",
    "figure = plt.figure()\n",
    "plt.plot(keys, means, 'o:')\n",
    "plt.xlabel('K')\n",
    "plt.ylabel('Accuracy')\n",
    "plt.title('Accuracy Score for each K Neighbors')"
   ]
  },
  {
   "cell_type": "markdown",
   "metadata": {},
   "source": [
    "## ROC Curve for KNN\n",
    "#### Number of Neighbors is chosen based on the best performing k-value from the previous test"
   ]
  },
  {
   "cell_type": "code",
   "execution_count": 41,
   "metadata": {},
   "outputs": [],
   "source": [
    "from operator import itemgetter\n",
    "# created a sorted list of tuples (accuracy, index)\n",
    "meta_list = sorted(((value, index) for index, value in enumerate(means)), reverse=True)\n",
    "best_n_folds_idx = max(meta_list,key=itemgetter(0))[1] # get the index of the best accuracy\n",
    "\n",
    "best_n_folds = kValues[best_n_folds_idx] # get the best number of folds "
   ]
  },
  {
   "cell_type": "code",
   "execution_count": 42,
   "metadata": {},
   "outputs": [],
   "source": [
    "# 10 folds for cross validation\n",
    "folds = KFold(n_splits=10)\n",
    "folds.get_n_splits(X_train)\n",
    "\n",
    "current_scores_5n = []\n",
    "\n",
    "for train_index, val_index in folds.split(X_train):\n",
    "    current_train_X, current_val_X = X_train.iloc[train_index], X_train.iloc[val_index]\n",
    "    current_train_y, current_val_y = y_train.iloc[train_index], y_train.iloc[val_index]\n",
    "    knn = neighbors.KNeighborsClassifier(n_neighbors = best_n_folds,weights='uniform', p=2) # number of nearest neighbors is the number based on the highest accuracy (see above)\n",
    "    knn.fit(current_train_X, current_train_y)\n",
    "    scores = knn.score(current_val_X, current_val_y)\n",
    "    current_scores_5n.append(scores)"
   ]
  },
  {
   "cell_type": "code",
   "execution_count": 43,
   "metadata": {},
   "outputs": [
    {
     "data": {
      "text/plain": [
       "0.9"
      ]
     },
     "execution_count": 43,
     "metadata": {},
     "output_type": "execute_result"
    }
   ],
   "source": [
    "# Accuracy Score \n",
    "knn.score(X_test,y_test)"
   ]
  },
  {
   "cell_type": "code",
   "execution_count": 44,
   "metadata": {},
   "outputs": [],
   "source": [
    "knn_y_scores = knn.predict_proba(X_test)"
   ]
  },
  {
   "cell_type": "code",
   "execution_count": 45,
   "metadata": {},
   "outputs": [],
   "source": [
    "fpr, tpr, threshold = metrics.roc_curve(y_test, knn_y_scores[:, 1])"
   ]
  },
  {
   "cell_type": "code",
   "execution_count": 46,
   "metadata": {
    "scrolled": true
   },
   "outputs": [
    {
     "data": {
      "image/png": "[encoded data removed]",
      "text/plain": [
       "<Figure size 432x288 with 1 Axes>"
      ]
     },
     "metadata": {
      "needs_background": "light"
     },
     "output_type": "display_data"
    }
   ],
   "source": [
    "plt.title('Receiver Operating Characteristic')\n",
    "roc_auc = metrics.auc(fpr, tpr)\n",
    "plt.plot(fpr,tpr, label = 'AUC = %0.2f' % roc_auc)\n",
    "plt.legend(loc = 'lower right')\n",
    "plt.plot([0, 1], [0, 1],'r--')\n",
    "plt.ylabel('True Positive Rate')\n",
    "plt.xlabel('False Positive Rate')\n",
    "plt.show()"
   ]
  },
  {
   "cell_type": "markdown",
   "metadata": {},
   "source": [
    "# Logistic Regression - Comparing Naive Bayes with a 3rd Model"
   ]
  },
  {
   "cell_type": "markdown",
   "metadata": {},
   "source": [
    "### Preparing Data for Logistic Regression"
   ]
  },
  {
   "cell_type": "code",
   "execution_count": 47,
   "metadata": {},
   "outputs": [
    {
     "name": "stderr",
     "output_type": "stream",
     "text": [
      "[nltk_data] Downloading package wordnet to\n",
      "[nltk_data]     C:\\Users\\Sam\\AppData\\Roaming\\nltk_data...\n",
      "[nltk_data]   Package wordnet is already up-to-date!\n"
     ]
    }
   ],
   "source": [
    "from sklearn.linear_model import LogisticRegression\n",
    "from sklearn.metrics import accuracy_score\n",
    "from sklearn.model_selection import learning_curve, GridSearchCV\n",
    "from nltk.stem import WordNetLemmatizer \n",
    "\n",
    "import warnings\n",
    "import nltk\n",
    "nltk.download('wordnet')\n",
    "warnings.filterwarnings('ignore')"
   ]
  },
  {
   "cell_type": "code",
   "execution_count": 48,
   "metadata": {},
   "outputs": [],
   "source": [
    "df = pd.read_csv('personal_emails.csv')"
   ]
  },
  {
   "cell_type": "code",
   "execution_count": 49,
   "metadata": {},
   "outputs": [],
   "source": [
    "# Splitting data into training and test\n",
    "X_train, X_test, y_train, y_test = train_test_split(df['text'], df['spam_ham'], test_size=0.3, random_state=42, stratify=df['spam_ham'])"
   ]
  },
  {
   "cell_type": "code",
   "execution_count": 50,
   "metadata": {},
   "outputs": [],
   "source": [
    "# Split the training set into the training and validation sets\n",
    "# Use stratify to maintain the same ratios between different classes\n",
    "X_train_after_val, X_val, y_train_after_val, y_val = train_test_split(X_train, y_train, test_size=0.1, random_state=42, stratify=y_train)"
   ]
  },
  {
   "cell_type": "code",
   "execution_count": 51,
   "metadata": {},
   "outputs": [],
   "source": [
    "email_text_lst = lst_of_text(X_train_after_val) # use only training data\n",
    "lemmatized_email_text_lst = lemmatize_emails_lst(email_text_lst)\n",
    "X_train_processed, feature_names, train_vectorizer = cal_tf_idf(lemmatized_email_text_lst, max_df=0.9, min_df=0.04)\n",
    "features_train = X_train_processed.toarray() # Use X.toarray() to convert the sparse matrix to a dense numpy array"
   ]
  },
  {
   "cell_type": "code",
   "execution_count": 52,
   "metadata": {},
   "outputs": [],
   "source": [
    "# manipulating the validation data\n",
    "email_text_lst_val = lst_of_text(X_val)\n",
    "lemmatized_email_text_lst_val = lemmatize_emails_lst(email_text_lst_val)\n",
    "X_val_processed = train_vectorizer.transform(lemmatized_email_text_lst_val)\n",
    "features_val = X_val_processed.toarray() "
   ]
  },
  {
   "cell_type": "code",
   "execution_count": 53,
   "metadata": {},
   "outputs": [],
   "source": [
    "C_param_range = [0.001, 0.01, 0.1, 1, 10, 100, 1000, 10000]"
   ]
  },
  {
   "cell_type": "markdown",
   "metadata": {},
   "source": [
    "### LR(L2)-Training Set"
   ]
  },
  {
   "cell_type": "code",
   "execution_count": 54,
   "metadata": {},
   "outputs": [
    {
     "name": "stdout",
     "output_type": "stream",
     "text": [
      "Training time taken: 0.07 seconds\n"
     ]
    }
   ],
   "source": [
    "LR_scores = {}\n",
    "LR_scores_lst = []\n",
    "LR_model_lst = []\n",
    "start_time = time.time()\n",
    "for k, c in zip(range(0,len(C_param_range)),C_param_range):\n",
    "    lr = LogisticRegression(penalty='l2', C=c, random_state=0)\n",
    "    lr.fit(features_train, y_train_after_val)\n",
    "    lr_y_train_after_val_pred = lr.predict(features_train)\n",
    "    LR_model_lst.append(lr)\n",
    "    LR_scores[k] = metrics.accuracy_score(y_train_after_val ,lr_y_train_after_val_pred)\n",
    "    LR_scores_lst.append(LR_scores[k])\n",
    "print(\"Training time taken: \" + str(round(time.time() - start_time,2)) + \" seconds\")"
   ]
  },
  {
   "cell_type": "markdown",
   "metadata": {},
   "source": [
    "### LR(L2)-Validation Set"
   ]
  },
  {
   "cell_type": "code",
   "execution_count": 55,
   "metadata": {},
   "outputs": [
    {
     "name": "stdout",
     "output_type": "stream",
     "text": [
      "Training time taken: 0.21 seconds\n"
     ]
    }
   ],
   "source": [
    "LR_scores_val = {}\n",
    "LR_scores_lst_val = []\n",
    "LR_model_lst_val = []\n",
    "start_time = time.time()\n",
    "for k in range(0,len(C_param_range)):\n",
    "    lr.fit(features_train, y_train_after_val)\n",
    "    lr_y_val_pred = LR_model_lst[k].predict(features_val)\n",
    "    LR_scores_val[k] = metrics.accuracy_score(y_val ,lr_y_val_pred)\n",
    "    LR_scores_lst_val.append(LR_scores_val[k])\n",
    "print(\"Training time taken: \" + str(round(time.time() - start_time,2)) + \" seconds\")\n",
    "# LR_scores_lst_val"
   ]
  },
  {
   "cell_type": "markdown",
   "metadata": {},
   "source": [
    "### LR(L2)-Choosing Best C"
   ]
  },
  {
   "cell_type": "code",
   "execution_count": 56,
   "metadata": {},
   "outputs": [
    {
     "data": {
      "image/png": "[encoded data removed]",
      "text/plain": [
       "<Figure size 720x432 with 1 Axes>"
      ]
     },
     "metadata": {
      "needs_background": "light"
     },
     "output_type": "display_data"
    }
   ],
   "source": [
    "fig = plt.figure(figsize=(10,6))\n",
    "sns.lineplot(x=np.log10(C_param_range), y=LR_scores_lst)\n",
    "sns.lineplot(x=np.log10(C_param_range), y=LR_scores_lst_val)\n",
    "fig.legend(labels=['Training data','Validation data'])\n",
    "plt.ylabel('Accuracy')\n",
    "plt.xlabel('Log C')\n",
    "plt.show()"
   ]
  },
  {
   "cell_type": "markdown",
   "metadata": {},
   "source": [
    "### LR(L2)-Testing Set"
   ]
  },
  {
   "cell_type": "code",
   "execution_count": 57,
   "metadata": {},
   "outputs": [
    {
     "name": "stdout",
     "output_type": "stream",
     "text": [
      "0.9235294117647059\n",
      "Testing time taken: 2.05 seconds\n"
     ]
    }
   ],
   "source": [
    "email_text_lst_test = lst_of_text(X_test)\n",
    "lemmatized_email_text_lst_test = lemmatize_emails_lst(email_text_lst_test)\n",
    "X_test_processed = train_vectorizer.transform(lemmatized_email_text_lst_test)\n",
    "features_test = X_test_processed.toarray() # Use X.toarray() to convert the sparse matrix to a dense numpy array\n",
    "\n",
    "pltstart_time = time.time()\n",
    "k = np.argmax(LR_scores_lst_val) # choose the max accuracy\n",
    "lr_y_test_pred = LR_model_lst[k].predict(features_test)\n",
    "LR_scores_test = metrics.accuracy_score(y_test ,lr_y_test_pred)\n",
    "print(LR_scores_test)\n",
    "print(\"Testing time taken: \" + str(round(time.time() - start_time,2)) + \" seconds\")"
   ]
  },
  {
   "cell_type": "code",
   "execution_count": 58,
   "metadata": {},
   "outputs": [],
   "source": [
    "LR_prob_lst = LR_model_lst[k].predict_proba(features_test)\n",
    "LR_prob_1st_1 = [i[1] for i in LR_prob_lst]"
   ]
  },
  {
   "cell_type": "markdown",
   "metadata": {},
   "source": [
    "### ROC Curve for Logistic Regression"
   ]
  },
  {
   "cell_type": "code",
   "execution_count": 59,
   "metadata": {},
   "outputs": [
    {
     "data": {
      "text/plain": [
       "Text(0.5, 1.0, 'Logistic Regression Receiver Operating Characteristic')"
      ]
     },
     "execution_count": 59,
     "metadata": {},
     "output_type": "execute_result"
    },
    {
     "data": {
      "image/png": "[encoded data removed]",
      "text/plain": [
       "<Figure size 432x288 with 1 Axes>"
      ]
     },
     "metadata": {
      "needs_background": "light"
     },
     "output_type": "display_data"
    }
   ],
   "source": [
    "fpr_rt_lr, tpr_rt_lr, threshold = metrics.roc_curve(y_test, LR_prob_1st_1)\n",
    "plt.figure()\n",
    "plt.plot([0, 1], [0, 1], 'k--')\n",
    "plt.plot(fpr_rt_lr, tpr_rt_lr, label='ROC Curve')\n",
    "plt.ylabel('True Positive Rate')\n",
    "plt.xlabel('False Positive Rate')\n",
    "plt.title('Logistic Regression Receiver Operating Characteristic')"
   ]
  }
 ],
 "metadata": {
  "kernelspec": {
   "display_name": "Python 3",
   "language": "python",
   "name": "python3"
  },
  "language_info": {
   "codemirror_mode": {
    "name": "ipython",
    "version": 3
   },
   "file_extension": ".py",
   "mimetype": "text/x-python",
   "name": "python",
   "nbconvert_exporter": "python",
   "pygments_lexer": "ipython3",
   "version": "3.7.1"
  }
 },
 "nbformat": 4,
 "nbformat_minor": 2
}
